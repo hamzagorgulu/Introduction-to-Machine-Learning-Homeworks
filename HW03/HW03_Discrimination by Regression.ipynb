{
 "cells": [
  {
   "cell_type": "code",
   "execution_count": 68,
   "metadata": {},
   "outputs": [],
   "source": [
    "import matplotlib.pyplot as plt\n",
    "import numpy as np\n",
    "import pandas as pd"
   ]
  },
  {
   "cell_type": "code",
   "execution_count": 69,
   "metadata": {},
   "outputs": [
    {
     "name": "stdout",
     "output_type": "stream",
     "text": [
      "(195, 320)\n",
      "(195,)\n"
     ]
    }
   ],
   "source": [
    "data = np.genfromtxt(\"hw03_data_set_images.csv\", delimiter = \",\")\n",
    "labels = np.genfromtxt(\"hw03_data_set_labels.csv\", dtype=str)\n",
    "print(data.shape)\n",
    "print(labels.shape)"
   ]
  },
  {
   "cell_type": "code",
   "execution_count": 70,
   "metadata": {},
   "outputs": [
    {
     "data": {
      "text/plain": [
       "(195,)"
      ]
     },
     "execution_count": 70,
     "metadata": {},
     "output_type": "execute_result"
    }
   ],
   "source": [
    "labels.shape"
   ]
  },
  {
   "cell_type": "code",
   "execution_count": 71,
   "metadata": {},
   "outputs": [],
   "source": [
    "#create empty matrixes with the dim of train and test data sets\n",
    "train_data = np.zeros((125,320))  \n",
    "test_data = np.zeros((70,320))\n",
    "train_labels = np.zeros(125)\n",
    "test_labels = np.zeros(70)"
   ]
  },
  {
   "cell_type": "code",
   "execution_count": 72,
   "metadata": {},
   "outputs": [
    {
     "data": {
      "text/plain": [
       "(125, 320)"
      ]
     },
     "execution_count": 72,
     "metadata": {},
     "output_type": "execute_result"
    }
   ],
   "source": [
    "train_data.shape"
   ]
  },
  {
   "cell_type": "code",
   "execution_count": 73,
   "metadata": {},
   "outputs": [],
   "source": [
    "for i in range(0,5):  #there are 5 classes\n",
    "    train_data[25*i:(25+25*i),:] = data[(39*i):(25+39*i),:]   # take the first 25 values of each 39 data as training data\n",
    "    test_data[14*i:(14+14*i),:] = data[(25+i*39):39*(i+1),:]  # take the last 14 values of each 39 data as test data\n",
    "    train_labels[25*i:(25+25*i)] = labels[(39*i):(25+39*i)]   # take the first 25 values of each 39 labels as training labels\n",
    "    test_labels[14*i:(14+14*i)] = labels[(25+i*39):39*(i+1)]  # take the last 14 values of each 39 labels as test labels"
   ]
  },
  {
   "cell_type": "code",
   "execution_count": 74,
   "metadata": {},
   "outputs": [
    {
     "name": "stdout",
     "output_type": "stream",
     "text": [
      "(125, 320)\n",
      "(70, 320)\n",
      "(125,)\n",
      "(70,)\n"
     ]
    }
   ],
   "source": [
    "print(train_data.shape)\n",
    "print(test_data.shape)\n",
    "print(train_labels.shape)\n",
    "print(test_labels.shape)"
   ]
  },
  {
   "cell_type": "code",
   "execution_count": 75,
   "metadata": {},
   "outputs": [
    {
     "data": {
      "text/plain": [
       "(125, 320)"
      ]
     },
     "execution_count": 75,
     "metadata": {},
     "output_type": "execute_result"
    }
   ],
   "source": [
    "train_data.shape"
   ]
  },
  {
   "cell_type": "code",
   "execution_count": 76,
   "metadata": {},
   "outputs": [
    {
     "name": "stdout",
     "output_type": "stream",
     "text": [
      "5 125 320\n"
     ]
    }
   ],
   "source": [
    "# get number of classes and number of samples\n",
    "K = int(np.max(train_labels))\n",
    "N = train_data.shape[0]  #125 data\n",
    "D= train_data.shape[1]  # 320 dimention\n",
    "\n",
    "# one-of-K encoding\n",
    "#Y_truth = np.zeros((N, K)).astype(int)\n",
    "#Y_truth[range(N), y_truth - 1] = 1   #y_truth is either 1, 2 or 3\n",
    "\n",
    "print(K,N,D)\n",
    "#print(Y_truth)"
   ]
  },
  {
   "cell_type": "code",
   "execution_count": 77,
   "metadata": {},
   "outputs": [],
   "source": [
    "#define sigmoid function\n",
    "def sigmoid(W, x, wo):\n",
    "    return 1/(1 + np.exp(-(np.matmul(x, W) + w0)))"
   ]
  },
  {
   "cell_type": "code",
   "execution_count": 90,
   "metadata": {},
   "outputs": [],
   "source": [
    "#set the parameters\n",
    "eta = 0.001\n",
    "epsilon = 0.001"
   ]
  },
  {
   "cell_type": "code",
   "execution_count": 91,
   "metadata": {},
   "outputs": [
    {
     "data": {
      "text/plain": [
       "(320, 5)"
      ]
     },
     "execution_count": 91,
     "metadata": {},
     "output_type": "execute_result"
    }
   ],
   "source": [
    "(train_data.shape[1],K)"
   ]
  },
  {
   "cell_type": "code",
   "execution_count": 92,
   "metadata": {},
   "outputs": [
    {
     "name": "stdout",
     "output_type": "stream",
     "text": [
      "(320, 5)\n",
      "(1, 5)\n"
     ]
    }
   ],
   "source": [
    "#randomly initalize W and w0 \n",
    "W = np.random.uniform(low = -0.01, high = 0.01, size = (train_data.shape[1],K))\n",
    "w0 = np.random.uniform(low = -0.01, high = 0.01, size = (1, K))\n",
    "print(W.shape)\n",
    "print(w0.shape)"
   ]
  },
  {
   "cell_type": "code",
   "execution_count": 93,
   "metadata": {},
   "outputs": [],
   "source": [
    "# define the gradient functions\n",
    "def gradient_W(X, y_truth, y_predicted):\n",
    "    return(np.asarray([-np.sum(np.repeat((y_truth[:,c] - y_predicted[:,c])[:, None], X.shape[1], axis = 1) * X, axis = 0) for c in range(5)]).transpose())\n",
    "\n",
    "def gradient_w0(Y_truth, Y_predicted):\n",
    "    return(-np.sum(y_truth - y_predicted, axis = 0))"
   ]
  },
  {
   "cell_type": "code",
   "execution_count": 94,
   "metadata": {},
   "outputs": [],
   "source": [
    "def gen_y_truth(test_labels):\n",
    "    val = np.zeros((test_labels.shape[0], 5))\n",
    "    for i in range(test_labels.shape[0]):\n",
    "        if test_labels[i] == 1:\n",
    "            val[i][0] = 1\n",
    "        elif test_labels[i] == 2:\n",
    "            val[i][1] = 1\n",
    "        elif test_labels[i] == 3:\n",
    "            val[i][2] = 1\n",
    "        elif test_labels[i] == 4:\n",
    "            val[i][3] = 1\n",
    "        elif test_labels[i] == 5:\n",
    "            val[i][4] = 1\n",
    "    return val"
   ]
  },
  {
   "cell_type": "code",
   "execution_count": 95,
   "metadata": {},
   "outputs": [
    {
     "data": {
      "text/plain": [
       "(125, 5)"
      ]
     },
     "execution_count": 95,
     "metadata": {},
     "output_type": "execute_result"
    }
   ],
   "source": [
    "gen_y_truth(train_labels).shape"
   ]
  },
  {
   "cell_type": "code",
   "execution_count": 96,
   "metadata": {},
   "outputs": [],
   "source": [
    "# learn W and w0 using gradient descent\n",
    "iteration = 1\n",
    "objective_values = []\n",
    "y_truth = gen_y_truth(train_labels)\n",
    "\n",
    "while 1:\n",
    "    y_predicted = sigmoid(W, train_data, w0)\n",
    "    objective_values = np.append(objective_values, 1/2*np.sum((y_truth-y_predicted)**2))\n",
    "\n",
    "    W_old = W\n",
    "    w0_old = w0\n",
    "\n",
    "    W = W - eta * gradient_W(train_data, y_truth, y_predicted)\n",
    "    w0 = w0 - eta * gradient_w0(y_truth, y_predicted)\n",
    "\n",
    "    if np.sqrt(np.sum((w0 - w0_old))**2 + np.sum((W - W_old)**2)) < epsilon:\n",
    "        break\n",
    "    iteration = iteration + 1"
   ]
  },
  {
   "cell_type": "code",
   "execution_count": 106,
   "metadata": {},
   "outputs": [
    {
     "name": "stdout",
     "output_type": "stream",
     "text": [
      "[[-0.01248877 -0.12202349 -0.02330646  0.25957089 -0.05144583]\n",
      " [-0.13809323  0.0133456  -0.25784647  0.41907173  0.08381588]\n",
      " [-0.16252193  0.15206485 -0.27484967  0.31900074  0.07674089]\n",
      " ...\n",
      " [ 0.07239804  0.28651049  0.08991699 -0.29956265 -0.25048078]\n",
      " [ 0.13500061 -0.35475588  0.08569882 -0.3755119  -0.01390127]\n",
      " [ 0.15955649 -0.52150218  0.17763068 -0.32335256 -0.02200793]]\n",
      "[[-0.11543911 -0.37997204  0.00094955 -0.05458442 -0.34358864]]\n"
     ]
    }
   ],
   "source": [
    "print(W)\n",
    "print(w0)"
   ]
  },
  {
   "cell_type": "code",
   "execution_count": 97,
   "metadata": {},
   "outputs": [
    {
     "data": {
      "image/png": "[encoded data removed]",
      "text/plain": [
       "<Figure size 720x432 with 1 Axes>"
      ]
     },
     "metadata": {
      "needs_background": "light"
     },
     "output_type": "display_data"
    }
   ],
   "source": [
    "#visualize, we have more than 1700 iterations\n",
    "plt.figure(figsize = (10, 6))\n",
    "plt.plot(range(1, iteration + 1), objective_values, \"b-\")\n",
    "plt.title(\"Training Error vs Iteration\")\n",
    "plt.xlabel(\"Iteration\")\n",
    "plt.ylabel(\"Error\")\n",
    "plt.show()"
   ]
  },
  {
   "cell_type": "code",
   "execution_count": 110,
   "metadata": {},
   "outputs": [
    {
     "name": "stdout",
     "output_type": "stream",
     "text": [
      "Confusion matrix for training dataset\n",
      "y_truth       1   2   3   4   5\n",
      "y_predicted                    \n",
      "1            25   0   0   0   0\n",
      "2             0  25   0   0   0\n",
      "3             0   0  25   0   0\n",
      "4             0   0   0  25   0\n",
      "5             0   0   0   0  25\n"
     ]
    }
   ],
   "source": [
    "y_predicted_classes = np.argmax(y_predicted, axis = 1) + 1\n",
    "y_truth_classes = np.argmax(y_truth, axis = 1) + 1\n",
    "confusion_matrix = pd.crosstab(y_predicted_classes, y_truth_classes, rownames = ['y_predicted'], colnames = ['y_truth'])\n",
    "print(\"Confusion matrix for training dataset\")\n",
    "print(confusion_matrix)"
   ]
  },
  {
   "cell_type": "code",
   "execution_count": 108,
   "metadata": {},
   "outputs": [],
   "source": [
    "learned_w = W\n",
    "learned_w0 = w0"
   ]
  },
  {
   "cell_type": "code",
   "execution_count": 109,
   "metadata": {},
   "outputs": [
    {
     "name": "stdout",
     "output_type": "stream",
     "text": [
      "Confusion matrix for test dataset\n",
      "y_test        1   2   3   4   5\n",
      "y_predicted                    \n",
      "1            13   1   0   0   0\n",
      "2             1  11   0   0   2\n",
      "3             0   0  14   0   0\n",
      "4             0   0   0  14   0\n",
      "5             0   2   0   0  12\n"
     ]
    }
   ],
   "source": [
    "test_results = sigmoid(learned_w, test_data, learned_w0)\n",
    "test_truth = gen_y_truth(test_labels)\n",
    "\n",
    "test_results_classes = np.argmax(test_results, axis = 1) + 1\n",
    "test_truth_classes = np.argmax(test_truth, axis = 1) + 1\n",
    "\n",
    "confusion_matrix = pd.crosstab(test_results_classes, test_truth_classes, rownames = ['y_predicted'], colnames = ['y_test'])\n",
    "print(\"Confusion matrix for test dataset\")\n",
    "print(confusion_matrix)"
   ]
  },
  {
   "cell_type": "code",
   "execution_count": null,
   "metadata": {},
   "outputs": [],
   "source": []
  }
 ],
 "metadata": {
  "kernelspec": {
   "display_name": "Python 3",
   "language": "python",
   "name": "python3"
  },
  "language_info": {
   "codemirror_mode": {
    "name": "ipython",
    "version": 3
   },
   "file_extension": ".py",
   "mimetype": "text/x-python",
   "name": "python",
   "nbconvert_exporter": "python",
   "pygments_lexer": "ipython3",
   "version": "3.8.5"
  }
 },
 "nbformat": 4,
 "nbformat_minor": 4
}
