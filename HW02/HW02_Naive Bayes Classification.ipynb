{
 "cells": [
  {
   "cell_type": "code",
   "execution_count": 92,
   "metadata": {},
   "outputs": [],
   "source": [
    "import matplotlib.pyplot as plt\n",
    "import numpy as np\n",
    "import pandas as pd"
   ]
  },
  {
   "cell_type": "code",
   "execution_count": 93,
   "metadata": {},
   "outputs": [],
   "source": [
    "data = np.genfromtxt(\"hw02_data_set_images.csv\", delimiter = \",\")\n",
    "labels = np.genfromtxt(\"hw02_data_set_labels.csv\", dtype=str) "
   ]
  },
  {
   "cell_type": "code",
   "execution_count": 94,
   "metadata": {},
   "outputs": [
    {
     "name": "stdout",
     "output_type": "stream",
     "text": [
      "(125, 320)\n",
      "(70, 320)\n",
      "(125,)\n",
      "(70,)\n"
     ]
    }
   ],
   "source": [
    "#create empty matrixes with the dim of train and test data sets\n",
    "train_data = np.zeros((25*5,320))\n",
    "test_data = np.zeros((14*5,320))\n",
    "train_labels = np.zeros(25*5)\n",
    "test_labels = np.zeros(14*5)\n",
    "print(train_data.shape)\n",
    "print(test_data.shape)\n",
    "print(train_labels.shape)\n",
    "print(test_labels.shape)"
   ]
  },
  {
   "cell_type": "code",
   "execution_count": 95,
   "metadata": {},
   "outputs": [
    {
     "name": "stdout",
     "output_type": "stream",
     "text": [
      "[[0. 0. 0. ... 0. 0. 0.]\n",
      " [0. 0. 0. ... 1. 1. 1.]\n",
      " [0. 0. 0. ... 1. 1. 1.]\n",
      " ...\n",
      " [0. 0. 0. ... 0. 0. 0.]\n",
      " [0. 1. 1. ... 1. 1. 0.]\n",
      " [0. 0. 0. ... 0. 0. 0.]]\n",
      "[[0. 0. 0. ... 1. 1. 1.]\n",
      " [0. 0. 0. ... 1. 1. 1.]\n",
      " [0. 0. 0. ... 0. 0. 1.]\n",
      " ...\n",
      " [0. 0. 0. ... 0. 0. 0.]\n",
      " [0. 0. 0. ... 1. 0. 0.]\n",
      " [0. 0. 0. ... 0. 0. 0.]]\n",
      "[1. 1. 1. 1. 1. 1. 1. 1. 1. 1. 1. 1. 1. 1. 1. 1. 1. 1. 1. 1. 1. 1. 1. 1.\n",
      " 1. 2. 2. 2. 2. 2. 2. 2. 2. 2. 2. 2. 2. 2. 2. 2. 2. 2. 2. 2. 2. 2. 2. 2.\n",
      " 2. 2. 3. 3. 3. 3. 3. 3. 3. 3. 3. 3. 3. 3. 3. 3. 3. 3. 3. 3. 3. 3. 3. 3.\n",
      " 3. 3. 3. 4. 4. 4. 4. 4. 4. 4. 4. 4. 4. 4. 4. 4. 4. 4. 4. 4. 4. 4. 4. 4.\n",
      " 4. 4. 4. 4. 5. 5. 5. 5. 5. 5. 5. 5. 5. 5. 5. 5. 5. 5. 5. 5. 5. 5. 5. 5.\n",
      " 5. 5. 5. 5. 5.]\n",
      "[1. 1. 1. 1. 1. 1. 1. 1. 1. 1. 1. 1. 1. 1. 2. 2. 2. 2. 2. 2. 2. 2. 2. 2.\n",
      " 2. 2. 2. 2. 3. 3. 3. 3. 3. 3. 3. 3. 3. 3. 3. 3. 3. 3. 4. 4. 4. 4. 4. 4.\n",
      " 4. 4. 4. 4. 4. 4. 4. 4. 5. 5. 5. 5. 5. 5. 5. 5. 5. 5. 5. 5. 5. 5.]\n"
     ]
    }
   ],
   "source": [
    "for i in range(0,5):\n",
    "    train_data[25*i:(25+25*i),:] = data[(39*i):(25+39*i),:]  # take the first 25 values of each 39 data as training data\n",
    "    test_data[14*i:(14+14*i),:] = data[(25+i*39):39*(i+1),:] # take the last 14 values of each 39 data as test data\n",
    "    train_labels[25*i:(25+25*i)] = labels[(39*i):(25+39*i)]  # take the first 25 values of each 39 labels as training labels\n",
    "    test_labels[14*i:(14+14*i)] = labels[(25+i*39):39*(i+1)] # take the last 14 values of each 39 labels as test labels\n",
    "\n",
    "print(train_data)\n",
    "print(test_data)\n",
    "print(train_labels)\n",
    "print(test_labels)"
   ]
  },
  {
   "cell_type": "code",
   "execution_count": 96,
   "metadata": {},
   "outputs": [],
   "source": [
    "def gen_y_truth(train_labels):\n",
    "    val = np.zeros(train_labels.shape[0])\n",
    "    for i in range(train_labels.shape[0]):\n",
    "        if train_labels[i] == 1:\n",
    "            val[i] = 1\n",
    "        elif train_labels[i] == 2:\n",
    "            val[i] = 2\n",
    "        elif train_labels[i] == 3:\n",
    "            val[i] = 3\n",
    "        elif train_labels[i] == 4:\n",
    "            val[i] = 4\n",
    "        elif train_labels[i] == 5:\n",
    "            val[i] = 5\n",
    "    return val"
   ]
  },
  {
   "cell_type": "code",
   "execution_count": 97,
   "metadata": {},
   "outputs": [
    {
     "data": {
      "text/plain": [
       "(125,)"
      ]
     },
     "execution_count": 97,
     "metadata": {},
     "output_type": "execute_result"
    }
   ],
   "source": [
    "gen_y_truth(train_labels).shape"
   ]
  },
  {
   "cell_type": "code",
   "execution_count": 98,
   "metadata": {},
   "outputs": [
    {
     "name": "stdout",
     "output_type": "stream",
     "text": [
      "(125,)\n",
      "(70,)\n"
     ]
    }
   ],
   "source": [
    "y_train_truth = gen_y_truth(train_labels)  # 125,1\n",
    "y_test_truth = gen_y_truth(test_labels)    #70,1\n",
    "print(y_train_truth.shape)\n",
    "print(y_test_truth.shape)"
   ]
  },
  {
   "cell_type": "code",
   "execution_count": 99,
   "metadata": {},
   "outputs": [
    {
     "name": "stdout",
     "output_type": "stream",
     "text": [
      "[[0.   0.   0.   ... 0.68 0.68 0.64]\n",
      " [0.04 0.24 0.24 ... 0.8  0.56 0.24]\n",
      " [0.   0.   0.   ... 0.6  0.88 0.8 ]\n",
      " [0.12 0.44 0.4  ... 0.28 0.16 0.08]\n",
      " [0.   0.12 0.12 ... 0.32 0.48 0.44]]\n"
     ]
    },
    {
     "data": {
      "text/plain": [
       "(5, 320)"
      ]
     },
     "execution_count": 99,
     "metadata": {},
     "output_type": "execute_result"
    }
   ],
   "source": [
    "sample_means = np.array([np.sum(train_data[y_train_truth == (c + 1)], axis=0) for c in range(5)]) / 25\n",
    "print(sample_means)\n",
    "sample_means.shape"
   ]
  },
  {
   "cell_type": "code",
   "execution_count": 100,
   "metadata": {},
   "outputs": [
    {
     "name": "stdout",
     "output_type": "stream",
     "text": [
      "[0.2, 0.2, 0.2, 0.2, 0.2]\n"
     ]
    }
   ],
   "source": [
    "class_priors = [np.mean(y_train_truth == (c + 1)) for c in range(5)]\n",
    "print(class_priors)"
   ]
  },
  {
   "cell_type": "code",
   "execution_count": 102,
   "metadata": {},
   "outputs": [],
   "source": [
    "def safe_log(x):  #in order to avoid errors\n",
    "    return(np.log(x + 1e-100))\n",
    "\n",
    "def calc_score(x):  #calculate score\n",
    "    scores = np.zeros(5)\n",
    "    for i in range(5):\n",
    "        scores[i] = scores[i] + safe_log(class_priors[i])\n",
    "        scores[i] = scores[i] + np.sum( x*safe_log(sample_means[i]) + ( (np.ones(sample_means.shape[1]) - x)*safe_log(np.ones(sample_means.shape[1]) - sample_means[i])) )\n",
    "    return scores"
   ]
  },
  {
   "cell_type": "code",
   "execution_count": 105,
   "metadata": {},
   "outputs": [
    {
     "name": "stdout",
     "output_type": "stream",
     "text": [
      "training performance\n",
      "y_test       1.0  2.0  3.0  4.0  5.0\n",
      "y_predicted                         \n",
      "1.0           25    0    0    0    0\n",
      "2.0            0   24    1    0    1\n",
      "3.0            0    0   24    0    0\n",
      "4.0            0    1    0   25    0\n",
      "5.0            0    0    0    0   24\n"
     ]
    }
   ],
   "source": [
    "train_predictions = np.zeros(125)\n",
    "for i in range(125):\n",
    "    train_predictions[i] = np.argmax(calc_score(train_data[i])) + 1\n",
    "\n",
    "confusion_matrix = pd.crosstab(train_predictions,y_train_truth,rownames = ['y_predicted'],colnames = ['y_test'])\n",
    "print(\"training performance\")\n",
    "print(confusion_matrix)"
   ]
  },
  {
   "cell_type": "code",
   "execution_count": 106,
   "metadata": {},
   "outputs": [
    {
     "name": "stdout",
     "output_type": "stream",
     "text": [
      "test performance\n",
      "y_test       1.0  2.0  3.0  4.0  5.0\n",
      "y_predicted                         \n",
      "1.0            7    0    0    0    0\n",
      "2.0            0   11    3    2    4\n",
      "3.0            0    0    7    0    0\n",
      "4.0            7    3    3   12    0\n",
      "5.0            0    0    1    0   10\n"
     ]
    }
   ],
   "source": [
    "test_predictions = np.zeros(70)\n",
    "for i in range(70):\n",
    "    test_predictions[i] = np.argmax(calc_score(test_data[i])) + 1\n",
    "\n",
    "\n",
    "test_confusion_matrix = pd.crosstab(test_predictions,y_test_truth,rownames = ['y_predicted'], colnames = ['y_test'])\n",
    "print(\"test performance\")\n",
    "print(test_confusion_matrix)"
   ]
  },
  {
   "cell_type": "code",
   "execution_count": null,
   "metadata": {},
   "outputs": [],
   "source": []
  }
 ],
 "metadata": {
  "kernelspec": {
   "display_name": "Python 3",
   "language": "python",
   "name": "python3"
  },
  "language_info": {
   "codemirror_mode": {
    "name": "ipython",
    "version": 3
   },
   "file_extension": ".py",
   "mimetype": "text/x-python",
   "name": "python",
   "nbconvert_exporter": "python",
   "pygments_lexer": "ipython3",
   "version": "3.8.5"
  }
 },
 "nbformat": 4,
 "nbformat_minor": 4
}
