{
 "cells": [
  {
   "cell_type": "code",
   "execution_count": 47,
   "metadata": {},
   "outputs": [],
   "source": [
    "import numpy as np\n",
    "import matplotlib.pyplot as plt\n",
    "import scipy.linalg as la\n",
    "from sklearn.metrics import confusion_matrix\n",
    "from scipy.spatial import distance\n",
    "from scipy import stats"
   ]
  },
  {
   "cell_type": "code",
   "execution_count": 48,
   "metadata": {},
   "outputs": [
    {
     "name": "stdout",
     "output_type": "stream",
     "text": [
      "(4000,)\n"
     ]
    }
   ],
   "source": [
    "X = np.genfromtxt(\"hw07_data_set_images.csv\",delimiter=\",\")\n",
    "Y = np.genfromtxt(\"hw07_data_set_labels.csv\",delimiter=\",\")\n",
    "#Y=np.reshape(Y,(4000,1))\n",
    "print(Y.shape)"
   ]
  },
  {
   "cell_type": "code",
   "execution_count": 49,
   "metadata": {},
   "outputs": [
    {
     "name": "stdout",
     "output_type": "stream",
     "text": [
      "(4000, 784)\n"
     ]
    }
   ],
   "source": [
    "print(X.shape)"
   ]
  },
  {
   "cell_type": "code",
   "execution_count": 50,
   "metadata": {},
   "outputs": [
    {
     "name": "stdout",
     "output_type": "stream",
     "text": [
      "4000 4000\n"
     ]
    }
   ],
   "source": [
    "N_train=X.shape[0]\n",
    "N_test=Y.shape[0]\n",
    "print(N_train,N_test)"
   ]
  },
  {
   "cell_type": "code",
   "execution_count": 51,
   "metadata": {},
   "outputs": [
    {
     "name": "stdout",
     "output_type": "stream",
     "text": [
      "(2000, 784) (2000, 784) (2000, 1) (2000, 1)\n"
     ]
    }
   ],
   "source": [
    "X_train = np.zeros(N_train)\n",
    "Y_train = np.zeros(N_train)\n",
    "X_test = np.zeros(N_test)\n",
    "Y_test = np.zeros(N_test)\n",
    "\n",
    "X_train = X[0:2000,:]\n",
    "X_test = X[0:2000,:]\n",
    "Y_train = Y[0:2000]\n",
    "Y_test = Y[2000:4001]\n",
    "Y_train=Y_train[:, None]\n",
    "Y_test=Y_test[:, None]\n",
    "\n",
    "print(X_train.shape,X_test.shape,Y_train.shape,Y_test.shape)"
   ]
  },
  {
   "cell_type": "code",
   "execution_count": 57,
   "metadata": {},
   "outputs": [
    {
     "name": "stdout",
     "output_type": "stream",
     "text": [
      "(2000, 785) (2000, 785)\n"
     ]
    }
   ],
   "source": [
    "training_data= np.hstack((X_train, Y_train))\n",
    "test_data= np.hstack((X_test, Y_test))\n",
    "print(training_data.shape,test_data.shape)"
   ]
  },
  {
   "cell_type": "code",
   "execution_count": 46,
   "metadata": {},
   "outputs": [
    {
     "name": "stdout",
     "output_type": "stream",
     "text": [
      "4000 784 10\n"
     ]
    }
   ],
   "source": [
    "N = len(Y)       # 4000 data points\n",
    "D = X.shape[1]   # 784 dimensinal\n",
    "K = int(max(Y))   #10 different label\n",
    "print(N,D,K)"
   ]
  },
  {
   "cell_type": "code",
   "execution_count": 59,
   "metadata": {},
   "outputs": [
    {
     "ename": "IndexError",
     "evalue": "boolean index did not match indexed array along dimension 1; dimension is 784 but corresponding boolean dimension is 1",
     "output_type": "error",
     "traceback": [
      "\u001b[1;31m---------------------------------------------------------------------------\u001b[0m",
      "\u001b[1;31mIndexError\u001b[0m                                Traceback (most recent call last)",
      "\u001b[1;32m<ipython-input-59-a33878ac8f96>\u001b[0m in \u001b[0;36m<module>\u001b[1;34m\u001b[0m\n\u001b[0;32m      2\u001b[0m \u001b[1;33m\u001b[0m\u001b[0m\n\u001b[0;32m      3\u001b[0m \u001b[1;32mfor\u001b[0m \u001b[0mi\u001b[0m \u001b[1;32min\u001b[0m \u001b[0mrange\u001b[0m\u001b[1;33m(\u001b[0m\u001b[0mK\u001b[0m\u001b[1;33m)\u001b[0m\u001b[1;33m:\u001b[0m\u001b[1;33m\u001b[0m\u001b[1;33m\u001b[0m\u001b[0m\n\u001b[1;32m----> 4\u001b[1;33m     \u001b[0mclass_means\u001b[0m\u001b[1;33m.\u001b[0m\u001b[0mappend\u001b[0m\u001b[1;33m(\u001b[0m \u001b[0mnp\u001b[0m\u001b[1;33m.\u001b[0m\u001b[0mmean\u001b[0m\u001b[1;33m(\u001b[0m\u001b[0mX_train\u001b[0m\u001b[1;33m[\u001b[0m\u001b[0mY_train\u001b[0m \u001b[1;33m==\u001b[0m \u001b[0mi\u001b[0m \u001b[1;33m+\u001b[0m \u001b[1;36m1\u001b[0m\u001b[1;33m]\u001b[0m \u001b[1;33m,\u001b[0m \u001b[0maxis\u001b[0m\u001b[1;33m=\u001b[0m\u001b[1;36m0\u001b[0m\u001b[1;33m)\u001b[0m\u001b[1;33m)\u001b[0m\u001b[1;33m\u001b[0m\u001b[1;33m\u001b[0m\u001b[0m\n\u001b[0m\u001b[0;32m      5\u001b[0m \u001b[1;33m\u001b[0m\u001b[0m\n\u001b[0;32m      6\u001b[0m \u001b[0mclass_means\u001b[0m \u001b[1;33m=\u001b[0m \u001b[0mnp\u001b[0m\u001b[1;33m.\u001b[0m\u001b[0marray\u001b[0m\u001b[1;33m(\u001b[0m\u001b[0mclass_means\u001b[0m\u001b[1;33m)\u001b[0m\u001b[1;33m\u001b[0m\u001b[1;33m\u001b[0m\u001b[0m\n",
      "\u001b[1;31mIndexError\u001b[0m: boolean index did not match indexed array along dimension 1; dimension is 784 but corresponding boolean dimension is 1"
     ]
    }
   ],
   "source": [
    "class_means = []\n",
    "\n",
    "for i in range(K):\n",
    "    class_means.append( np.mean(X_train[Y_train == i + 1,] , axis=0))\n",
    "    \n",
    "class_means = np.array(class_means)\n",
    "\n",
    "X_train_minus_mean = []\n",
    "\n",
    "for i in range(N):\n",
    "    X_train_minus_mean.append( X_train[i, :] - class_means[np.int(Y_train[i]) - 1, :] )\n",
    "    \n",
    "X_train_minus_mean= np.array(X_train_minus_mean)\n",
    "\n",
    "t_mean = np.mean(class_means, axis = 0)"
   ]
  },
  {
   "cell_type": "code",
   "execution_count": 25,
   "metadata": {},
   "outputs": [
    {
     "ename": "NameError",
     "evalue": "name 'class_sizes' is not defined",
     "output_type": "error",
     "traceback": [
      "\u001b[1;31m---------------------------------------------------------------------------\u001b[0m",
      "\u001b[1;31mNameError\u001b[0m                                 Traceback (most recent call last)",
      "\u001b[1;32m<ipython-input-25-30c86440ecb7>\u001b[0m in \u001b[0;36m<module>\u001b[1;34m\u001b[0m\n\u001b[0;32m      1\u001b[0m \u001b[1;31m# generate corresponding labels\u001b[0m\u001b[1;33m\u001b[0m\u001b[1;33m\u001b[0m\u001b[1;33m\u001b[0m\u001b[0m\n\u001b[1;32m----> 2\u001b[1;33m \u001b[0my\u001b[0m \u001b[1;33m=\u001b[0m \u001b[0mnp\u001b[0m\u001b[1;33m.\u001b[0m\u001b[0mconcatenate\u001b[0m\u001b[1;33m(\u001b[0m\u001b[1;33m(\u001b[0m\u001b[0mnp\u001b[0m\u001b[1;33m.\u001b[0m\u001b[0mrepeat\u001b[0m\u001b[1;33m(\u001b[0m\u001b[1;36m1\u001b[0m\u001b[1;33m,\u001b[0m \u001b[0mclass_sizes\u001b[0m\u001b[1;33m[\u001b[0m\u001b[1;36m0\u001b[0m\u001b[1;33m]\u001b[0m\u001b[1;33m)\u001b[0m\u001b[1;33m,\u001b[0m \u001b[0mnp\u001b[0m\u001b[1;33m.\u001b[0m\u001b[0mrepeat\u001b[0m\u001b[1;33m(\u001b[0m\u001b[1;36m0\u001b[0m\u001b[1;33m,\u001b[0m \u001b[0mclass_sizes\u001b[0m\u001b[1;33m[\u001b[0m\u001b[1;36m1\u001b[0m\u001b[1;33m]\u001b[0m\u001b[1;33m)\u001b[0m\u001b[1;33m)\u001b[0m\u001b[1;33m)\u001b[0m\u001b[1;33m\u001b[0m\u001b[1;33m\u001b[0m\u001b[0m\n\u001b[0m\u001b[0;32m      3\u001b[0m \u001b[0mprint\u001b[0m\u001b[1;33m(\u001b[0m\u001b[0my\u001b[0m\u001b[1;33m)\u001b[0m\u001b[1;33m\u001b[0m\u001b[1;33m\u001b[0m\u001b[0m\n",
      "\u001b[1;31mNameError\u001b[0m: name 'class_sizes' is not defined"
     ]
    }
   ],
   "source": [
    "# generate corresponding labels\n",
    "y = np.concatenate((np.repeat(1, class_sizes[0]), np.repeat(0, class_sizes[1])))\n",
    "print(y)"
   ]
  },
  {
   "cell_type": "code",
   "execution_count": 7,
   "metadata": {},
   "outputs": [
    {
     "name": "stdout",
     "output_type": "stream",
     "text": [
      "4000 784 10\n"
     ]
    }
   ],
   "source": []
  },
  {
   "cell_type": "code",
   "execution_count": null,
   "metadata": {},
   "outputs": [],
   "source": []
  },
  {
   "cell_type": "code",
   "execution_count": null,
   "metadata": {},
   "outputs": [],
   "source": [
    "def within_class_scatter():\n",
    "    ret = np.zeros((D,D))\n",
    "    class_covariances = [(np.dot(np.transpose(X_train[Y_train == (c + 1)] - class_means[c]), (X_train[Y_train == (c + 1)] - class_means[c]))) for c in range(K)]\n",
    "    ret = class_covariances[0] + class_covariances[1] + class_covariances[2]\n",
    "    return ret\n",
    "        \n",
    "def between_class_scatter():\n",
    "    ret = np.zeros((D,D))\n",
    "    for i in range(K):\n",
    "        X_c = X_train[Y_train == i+1]\n",
    "        mean_c = np.mean(X_c, axis = 0)\n",
    "        n_c = X_c.shape[0]\n",
    "        mean_d = (mean_c - t_mean).reshape(D,1)\n",
    "        ret += n_c * np.dot(mean_d, np.transpose(mean_d))\n",
    "    return ret\n",
    "    "
   ]
  },
  {
   "cell_type": "code",
   "execution_count": null,
   "metadata": {},
   "outputs": [],
   "source": [
    "    \n",
    "within_class_scatter_mat = within_class_scatter()\n",
    "between_class_scatter_mat = between_class_scatter()\n",
    "\n",
    "for d in range(D):\n",
    "    within_class_scatter_mat[d,d] = within_class_scatter_mat[d,d] + 1e-10\n",
    "    \n",
    "    \n",
    "#eigen values and eigen vectors\n",
    "within_scatter_inversed = np.linalg.inv(within_class_scatter_mat)\n",
    "values, vectors = la.eigh(np.dot(within_scatter_inversed, between_class_scatter_mat))\n",
    "\n",
    "two_vectors = vectors[:, 0:2]\n",
    "Z_train = np.dot(X_train, two_vectors)\n",
    "Z_test = np.dot(X_test, two_vectors)"
   ]
  },
  {
   "cell_type": "code",
   "execution_count": null,
   "metadata": {},
   "outputs": [],
   "source": [
    "point_colors = [\"#fc051a\", \"#004cff\", \"#00d150\"]\n",
    "\n",
    "plt.figure()\n",
    "plt.title(\"training points\")\n",
    "for i in range(N):\n",
    "    plt.scatter(Z_train[i,0], -Z_train[i,1], color=point_colors[np.int(Y_train[i])-1], s=5)\n",
    "plt.show()\n",
    "\n",
    "\n",
    "plt.figure()\n",
    "plt.title(\"tests points\")\n",
    "for i in range(len(Y_test)):\n",
    "    plt.scatter(Z_test[i,0],  -Z_test[i,1], color=point_colors[np.int(Y_test[i])-1], s=5)\n",
    "plt.show()"
   ]
  },
  {
   "cell_type": "code",
   "execution_count": null,
   "metadata": {},
   "outputs": [],
   "source": [
    "train_predictions = []\n",
    "\n",
    "for i in range(len(Z_train[:,1])):\n",
    "    v = Z_train[i, :]\n",
    "    initial_distances = np.zeros(Z_train.shape[0])\n",
    "    for j in range(len(Z_train[:,1])):\n",
    "        initial_distances[j] = distance.euclidean(v, Z_train[j, :])\n",
    "    smallest_dists_indices = np.argsort(initial_distances)[:5]\n",
    "    temp_labels = []\n",
    "    for x in smallest_dists_indices:\n",
    "        temp_labels.append(Y_train[x])\n",
    "    prediction= stats.mode(temp_labels)[0]\n",
    "    train_predictions.append(prediction)\n",
    "    \n",
    "print(np.transpose(np.array(confusion_matrix(train_predictions, Y_train))))"
   ]
  },
  {
   "cell_type": "code",
   "execution_count": null,
   "metadata": {},
   "outputs": [],
   "source": [
    "test_predictions = []\n",
    "\n",
    "for i in range(len(Z_test[:,1])):\n",
    "    v = Z_test[i, :]\n",
    "    initial_distances = np.zeros(Z_train.shape[0])\n",
    "    for j in range(len(Z_train[:,1])):\n",
    "        initial_distances[j] = distance.euclidean(v, Z_train[j, :])\n",
    "    smallest_dists_indices = np.argsort(initial_distances)[:5]\n",
    "    temp_labels = []\n",
    "    for x in smallest_dists_indices:\n",
    "        temp_labels.append(Y_train[x])\n",
    "    prediction= stats.mode(temp_labels)[0]\n",
    "    test_predictions.append(prediction)\n",
    "    \n",
    "print(np.transpose(np.array(confusion_matrix(test_predictions, Y_test))))"
   ]
  }
 ],
 "metadata": {
  "kernelspec": {
   "display_name": "Python 3",
   "language": "python",
   "name": "python3"
  },
  "language_info": {
   "codemirror_mode": {
    "name": "ipython",
    "version": 3
   },
   "file_extension": ".py",
   "mimetype": "text/x-python",
   "name": "python",
   "nbconvert_exporter": "python",
   "pygments_lexer": "ipython3",
   "version": "3.8.5"
  }
 },
 "nbformat": 4,
 "nbformat_minor": 4
}
